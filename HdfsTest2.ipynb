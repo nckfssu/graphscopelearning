{
 "cells": [
  {
   "cell_type": "code",
   "execution_count": 1,
   "id": "de041eba-b319-44ce-bbe2-eb4075f5c909",
   "metadata": {},
   "outputs": [
    {
     "name": "stdout",
     "output_type": "stream",
     "text": [
      "2022-10-26 17:54:46,957 [INFO][session:689]: Initializing graphscope session with parameters: {'addr': None, 'mode': 'eager', 'cluster_type': 'k8s', 'num_workers': 1, 'preemptive': True, 'k8s_namespace': None, 'k8s_service_type': 'LoadBalancer', 'k8s_gs_image': 'registry.cn-hongkong.aliyuncs.com/graphscope/graphscope:0.17.0', 'k8s_etcd_image': 'quay.io/coreos/etcd:v3.4.13', 'k8s_image_pull_policy': 'IfNotPresent', 'k8s_image_pull_secrets': [], 'k8s_coordinator_cpu': 1, 'k8s_coordinator_mem': '2Gi', 'etcd_addrs': None, 'etcd_listening_client_port': 2379, 'etcd_listening_peer_port': 2380, 'k8s_etcd_num_pods': 1, 'k8s_etcd_cpu': 1.0, 'k8s_etcd_mem': '1Gi', 'k8s_vineyard_daemonset': 'none', 'k8s_vineyard_cpu': 0.2, 'k8s_vineyard_mem': '1Gi', 'vineyard_shared_mem': '4Gi', 'k8s_engine_cpu': 0.2, 'k8s_engine_mem': '2Gi', 'k8s_mars_worker_cpu': 0.2, 'k8s_mars_worker_mem': '4Mi', 'k8s_mars_scheduler_cpu': 0.2, 'k8s_mars_scheduler_mem': '2Mi', 'k8s_coordinator_pod_node_selector': None, 'k8s_etcd_pod_node_selector': None, 'k8s_engine_pod_node_selector': None, 'with_mars': False, 'reconnect': False, 'k8s_volumes': {}, 'k8s_waiting_for_delete': False, 'timeout_seconds': 600, 'dangling_timeout_seconds': 600, 'mount_dataset': None, 'k8s_dataset_image': 'registry.cn-hongkong.aliyuncs.com/graphscope/dataset:0.17.0', 'hosts': ['localhost'], 'k8s_client_config': {}}\n",
      "2022-10-26 17:54:47,042 [INFO][cluster:308]: Launching coordinator...\n",
      "2022-10-26 17:54:50,148 [INFO][utils:182]: coordinator-oijgfv-797d97bb88-7dwvb: Successfully assigned gs-afbkco/coordinator-oijgfv-797d97bb88-7dwvb to docker-desktop\n",
      "2022-10-26 17:54:50,149 [INFO][utils:182]: coordinator-oijgfv-797d97bb88-7dwvb: Container image \"registry.cn-hongkong.aliyuncs.com/graphscope/graphscope:0.17.0\" already present on machine\n",
      "2022-10-26 17:54:50,150 [INFO][utils:182]: coordinator-oijgfv-797d97bb88-7dwvb: Created container coordinator\n",
      "2022-10-26 17:54:50,150 [INFO][utils:182]: coordinator-oijgfv-797d97bb88-7dwvb: Started container coordinator\n",
      "2022-10-26 17:54:50,145 [INFO][cluster:709]: Launching etcd ...\n",
      "2022-10-26 17:54:51,172 [INFO][cluster:874]: Etcd created, endpoint is 10.102.201.100:2379\n",
      "2022-10-26 17:54:51,172 [INFO][cluster:895]: Creating interactive engine service...\n",
      "2022-10-26 17:54:51,172 [INFO][cluster:902]: Creating engine replicaset...\n",
      "2022-10-26 17:54:51,172 [INFO][cluster:546]: Launching GraphScope engines pod ...\n",
      "2022-10-26 17:54:51,363 [INFO][cluster:955]: [gs-engine-oijgfv-jtftn]: Successfully assigned gs-afbkco/gs-engine-oijgfv-jtftn to docker-desktop\n",
      "2022-10-26 17:54:51,827 [INFO][cluster:955]: [gs-engine-oijgfv-jtftn]: Container image \"registry.cn-hongkong.aliyuncs.com/graphscope/graphscope:0.17.0\" already present on machine\n",
      "2022-10-26 17:54:51,851 [INFO][cluster:955]: [gs-engine-oijgfv-jtftn]: Created container engine\n",
      "2022-10-26 17:54:51,934 [INFO][cluster:955]: [gs-engine-oijgfv-jtftn]: Started container engine\n",
      "2022-10-26 17:54:51,965 [INFO][cluster:955]: [gs-engine-oijgfv-jtftn]: Created container vineyard\n",
      "2022-10-26 17:54:52,046 [INFO][cluster:955]: [gs-engine-oijgfv-jtftn]: Started container vineyard\n",
      "2022-10-26 17:54:59,267 [INFO][utils:182]: coordinator-oijgfv-797d97bb88-7dwvb: Readiness probe failed: dial tcp 10.1.2.92:59793: connect: connection refused\n",
      "2022-10-26 17:55:01,599 [INFO][cluster:955]: [gs-engine-oijgfv-jtftn]: Readiness probe failed: \n",
      "2022-10-26 17:55:10,014 [INFO][cluster:993]: GraphScope engines pod is ready.\n",
      "2022-10-26 17:55:10,015 [INFO][cluster:1140]: Engines pod name list: ['gs-engine-oijgfv-jtftn']\n",
      "2022-10-26 17:55:10,015 [INFO][cluster:1141]: Engines pod ip list: ['10.1.2.94']\n",
      "2022-10-26 17:55:10,015 [INFO][cluster:1142]: Engines pod host ip list: ['172.17.0.4']\n",
      "2022-10-26 17:55:10,016 [INFO][cluster:1143]: Vineyard service endpoint: localhost:9600\n",
      "2022-10-26 17:55:10,016 [INFO][cluster:1017]: Starting GAE rpc service on 10.1.2.94:56889 ...\n",
      "2022-10-26 17:55:10,266 [INFO][cluster:1063]: Analytical engine launching command: /home/graphscope/.local/lib/python3.8/site-packages/graphscope.runtime/openmpi/bin/mpirun --allow-run-as-root -n 1 -host gs-engine-oijgfv-jtftn:1.0 /home/graphscope/.local/lib/python3.8/site-packages/graphscope.runtime/bin/grape_engine --host 0.0.0.0 --port 56889 --vineyard_shared_mem 4Gi -v 1 --vineyard_socket /tmp/vineyard_workspace/vineyard.sock\n",
      "2022-10-26 17:55:10,275 [INFO][coordinator:200]: Java initial class path set to: /home/graphscope/.local/lib/python3.8/site-packages/graphscope.runtime/lib/grape-runtime-0.17.0-shaded.jar\n",
      "2022-10-26 17:55:10,279 [INFO][coordinator:1782]: Coordinator server listen at 0.0.0.0:59793\n",
      "10.1.2.94 gs-engine-oijgfv-jtftn\n",
      "I1026 17:55:11.000000    66 /work/analytical_engine/core/grape_instance.cc:87] Workers of grape-engine initialized.\n",
      "I1026 17:55:11.000000    69 /work/analytical_engine/core/server/analytical_server.cc:43] Analytical server is listening on 0.0.0.0:56889\n",
      "2022-10-26 17:55:18,525 [INFO][cluster:612]: Coordinator pod start successful with address localhost:59793, connecting to service ...\n",
      "2022-10-26 17:55:18,537 [INFO][rpc:69]: GraphScope coordinator service connected.\n",
      "========= Session created. ==========\n"
     ]
    }
   ],
   "source": [
    "import graphscope\n",
    "\n",
    "graphscope.set_option(show_log=True)\n",
    "\n",
    "session = graphscope.session(\n",
    "                             k8s_service_type=\"LoadBalancer\",\n",
    "                             k8s_coordinator_cpu=1,\n",
    "                             k8s_coordinator_mem=\"2Gi\",\n",
    "                             k8s_etcd_cpu=1.0,\n",
    "                             k8s_etcd_num_pods=1,\n",
    "                             k8s_etcd_mem='1Gi',\n",
    "                             k8s_vineyard_cpu=0.2,\n",
    "                             k8s_vineyard_mem=\"1Gi\",\n",
    "                             vineyard_shared_mem=\"4Gi\",\n",
    "                             k8s_engine_cpu=0.2,\n",
    "                             k8s_engine_mem=\"2Gi\",\n",
    "                             num_workers=1,)\n",
    "\n",
    "print('========= Session created. ==========')"
   ]
  },
  {
   "cell_type": "code",
   "execution_count": 2,
   "id": "48160b6a-2862-4228-be9b-a137ea8c79f5",
   "metadata": {},
   "outputs": [
    {
     "name": "stdout",
     "output_type": "stream",
     "text": [
      "I1026 17:57:20.000000    70 /work/analytical_engine/core/grape_instance.cc:1206] Registering Graph, graph type: ARROW_PROPERTY, Type sigature: e33529e80839a2064a804ce453c761a9483aa7ab775bcfddc1a1f9da63dcb521, lib path: /home/graphscope/.local/lib/python3.8/site-packages/graphscope.runtime/precompiled/builtin/e33529e80839a2064a804ce453c761a9483aa7ab775bcfddc1a1f9da63dcb521/libe33529e80839a2064a804ce453c761a9483aa7ab775bcfddc1a1f9da63dcb521.so\n",
      "I1026 17:57:20.000000    70 /work/analytical_engine/core/grape_instance.cc:144] Loading graph, graph name: graph_bzayy4cB, graph type: ArrowFragment, type sig: e33529e80839a2064a804ce453c761a9483aa7ab775bcfddc1a1f9da63dcb521\n",
      "Loading empty graph:   0%|          | 0/10 [00:00<?, ?it/s]\n",
      "Loading empty graph: 100%|██████████| 10/10 [00:00<00:00, 245.02it/s]\n",
      "Loading vertex labeled field_of_study and:   0%|          | 0/10 [00:00<?, ?it/s]\n",
      "/home/graphscope/.local/lib/python3.8/site-packages/graphscope.runtime/bin/../../gs_engine.libs/libarrow-821e3d1e.so.700.0.0(+0x6dc2e7)[0x7f3398e662e7]\n",
      "/home/graphscope/.local/lib/python3.8/site-packages/graphscope.runtime/bin/../../gs_engine.libs/libarrow-821e3d1e.so.700.0.0(_ZN5arrow4util8ArrowLogD1Ev+0xec)[0x7f3398e663ec]\n",
      "/home/graphscope/.local/lib/python3.8/site-packages/graphscope.runtime/bin/../../gs_engine.libs/libarrow-821e3d1e.so.700.0.0(_ZN5arrow8internal17InvalidValueOrDieERKNS_6StatusE+0xf1)[0x7f3398d0ad31]\n",
      "/home/graphscope/.local/lib/python3.8/site-packages/graphscope.runtime/bin/../../gs_engine.libs/libvineyard_io-ab48ec77.so(_ZN8vineyard14LocalIOAdaptorC1ERKSs+0xffc)[0x7f339a6508bc]\n",
      "/home/graphscope/.local/lib/python3.8/site-packages/graphscope.runtime/bin/../../gs_engine.libs/libvineyard_io-ab48ec77.so(_ZN8vineyard14LocalIOAdaptor4MakeERKSsPNS_6ClientE+0x90)[0x7f339a650b10]\n",
      "/home/graphscope/.local/lib/python3.8/site-packages/graphscope.runtime/bin/../../gs_engine.libs/libvineyard_io-ab48ec77.so(_ZN8vineyard9IOFactory15CreateIOAdaptorERKSsPNS_6ClientE+0x488)[0x7f339a6481b8]\n",
      "/home/graphscope/.local/lib/python3.8/site-packages/graphscope.runtime/precompiled/builtin/e33529e80839a2064a804ce453c761a9483aa7ab775bcfddc1a1f9da63dcb521/libe33529e80839a2064a804ce453c761a9483aa7ab775bcfddc1a1f9da63dcb521.so(+0xea1a1)[0x7f338c5211a1]\n",
      "/home/graphscope/.local/lib/python3.8/site-packages/graphscope.runtime/precompiled/builtin/e33529e80839a2064a804ce453c761a9483aa7ab775bcfddc1a1f9da63dcb521/libe33529e80839a2064a804ce453c761a9483aa7ab775bcfddc1a1f9da63dcb521.so(_ZZN2gs19ArrowFragmentLoaderIlmE16loadVertexTablesERKSt6vectorISt10shared_ptrINS_6detail6VertexEESaIS6_EEiiENKUlvE1_clEv+0x33b)[0x7f338c62ff6b]\n",
      "/home/graphscope/.local/lib/python3.8/site-packages/graphscope.runtime/precompiled/builtin/e33529e80839a2064a804ce453c761a9483aa7ab775bcfddc1a1f9da63dcb521/libe33529e80839a2064a804ce453c761a9483aa7ab775bcfddc1a1f9da63dcb521.so(_ZZN8vineyard13sync_gs_errorIRZN2gs19ArrowFragmentLoaderIlmE16loadVertexTablesERKSt6vectorISt10shared_ptrINS1_6detail6VertexEESaIS8_EEiiEUlvE1_JEEENSt9result_ofIFNSt5decayIT_E4typeEDpNSG_IT0_E4typeEEE4typeERKN5grape8CommSpecEOSH_DpOSK_ENKUlvE0_clEv+0x24)[0x7f338c630634]\n",
      "/home/graphscope/.local/lib/python3.8/site-packages/graphscope.runtime/precompiled/builtin/e33529e80839a2064a804ce453c761a9483aa7ab775bcfddc1a1f9da63dcb521/libe33529e80839a2064a804ce453c761a9483aa7ab775bcfddc1a1f9da63dcb521.so(_ZN2gs19ArrowFragmentLoaderIlmE16loadVertexTablesERKSt6vectorISt10shared_ptrINS_6detail6VertexEESaIS6_EEii+0x84a)[0x7f338c63112a]\n",
      "/home/graphscope/.local/lib/python3.8/site-packages/graphscope.runtime/precompiled/builtin/e33529e80839a2064a804ce453c761a9483aa7ab775bcfddc1a1f9da63dcb521/libe33529e80839a2064a804ce453c761a9483aa7ab775bcfddc1a1f9da63dcb521.so(_ZZN8vineyard13sync_gs_errorIRZN2gs19ArrowFragmentLoaderIlmE16LoadVertexTablesEvEUlvE0_JEEENSt9result_ofIFNSt5decayIT_E4typeEDpNS7_IT0_E4typeEEE4typeERKN5grape8CommSpecEOS8_DpOSB_ENKUlvE0_clEv+0x33)[0x7f338c6332d3]\n",
      "/home/graphscope/.local/lib/python3.8/site-packages/graphscope.runtime/precompiled/builtin/e33529e80839a2064a804ce453c761a9483aa7ab775bcfddc1a1f9da63dcb521/libe33529e80839a2064a804ce453c761a9483aa7ab775bcfddc1a1f9da63dcb521.so(_ZN2gs19ArrowFragmentLoaderIlmE16LoadVertexTablesEv+0x381)[0x7f338c633991]\n",
      "/home/graphscope/.local/lib/python3.8/site-packages/graphscope.runtime/precompiled/builtin/e33529e80839a2064a804ce453c761a9483aa7ab775bcfddc1a1f9da63dcb521/libe33529e80839a2064a804ce453c761a9483aa7ab775bcfddc1a1f9da63dcb521.so(_ZN2gs19ArrowFragmentLoaderIlmE20LoadVertexEdgeTablesEv+0x2a9)[0x7f338c634e49]\n",
      "/home/graphscope/.local/lib/python3.8/site-packages/graphscope.runtime/precompiled/builtin/e33529e80839a2064a804ce453c761a9483aa7ab775bcfddc1a1f9da63dcb521/libe33529e80839a2064a804ce453c761a9483aa7ab775bcfddc1a1f9da63dcb521.so(_ZN2gs19ArrowFragmentLoaderIlmE11addVerticesEm+0x4b)[0x7f338c6747cb]\n",
      "/home/graphscope/.local/lib/python3.8/site-packages/graphscope.runtime/precompiled/builtin/e33529e80839a2064a804ce453c761a9483aa7ab775bcfddc1a1f9da63dcb521/libe33529e80839a2064a804ce453c761a9483aa7ab775bcfddc1a1f9da63dcb521.so(_ZN2gs19ArrowFragmentLoaderIlmE31AddLabelsToGraphAsFragmentGroupEm+0x84)[0x7f338c675814]\n",
      "/home/graphscope/.local/lib/python3.8/site-packages/graphscope.runtime/precompiled/builtin/e33529e80839a2064a804ce453c761a9483aa7ab775bcfddc1a1f9da63dcb521/libe33529e80839a2064a804ce453c761a9483aa7ab775bcfddc1a1f9da63dcb521.so(AddLabelsToGraph+0x270)[0x7f338c525680]\n",
      "/home/graphscope/.local/lib/python3.8/site-packages/graphscope.runtime/bin/grape_engine(_ZN2gs13GrapeInstance16addLabelsToGraphERKNS_3rpc8GSParamsE+0x6e6)[0x47d616]\n",
      "/home/graphscope/.local/lib/python3.8/site-packages/graphscope.runtime/bin/grape_engine(_ZN2gs13GrapeInstance9OnReceiveESt10shared_ptrINS_13CommandDetailEE+0x691)[0x491d21]\n",
      "/home/graphscope/.local/lib/python3.8/site-packages/graphscope.runtime/bin/grape_engine(_ZN2gs10Dispatcher10processCmdESt10shared_ptrINS_13CommandDetailEE+0xcf)[0x519d4f]\n",
      "/home/graphscope/.local/lib/python3.8/site-packages/graphscope.runtime/bin/grape_engine(_ZN2gs10Dispatcher13publisherLoopEv+0x1c6)[0x51bea6]\n",
      "/home/graphscope/.local/lib/python3.8/site-packages/graphscope.runtime/bin/../../gs_engine.libs/libvineyard_graph-b74e04ee.so(+0xbeddf)[0x7f33a43aeddf]\n",
      "/lib/x86_64-linux-gnu/libpthread.so.0(+0x8608)[0x7f3399ede608]\n",
      "/lib/x86_64-linux-gnu/libc.so.6(clone+0x42)[0x7f339813f132]\n"
     ]
    },
    {
     "ename": "GRPCError",
     "evalue": "RPC failed: rpc _run_step_impl failed: status <_MultiThreadedRendezvous of RPC that terminated with:\n\tstatus = StatusCode.UNAVAILABLE\n\tdetails = \"Socket closed\"\n\tdebug_error_string = \"{\"created\":\"@1666778273.929470000\",\"description\":\"Error received from peer ipv6:[::1]:59793\",\"file\":\"src/core/lib/surface/call.cc\",\"file_line\":1075,\"grpc_message\":\"Socket closed\",\"grpc_status\":14}\"\n>",
     "output_type": "error",
     "traceback": [
      "\u001b[0;31m---------------------------------------------------------------------------\u001b[0m",
      "\u001b[0;31m_MultiThreadedRendezvous\u001b[0m                  Traceback (most recent call last)",
      "File \u001b[0;32m/Library/Frameworks/Python.framework/Versions/3.9/lib/python3.9/site-packages/graphscope/client/utils.py:156\u001b[0m, in \u001b[0;36mhandle_grpc_error_with_retry.<locals>.with_grpc_catch\u001b[0;34m(*args, **kwargs)\u001b[0m\n\u001b[1;32m    155\u001b[0m \u001b[38;5;28;01mtry\u001b[39;00m:\n\u001b[0;32m--> 156\u001b[0m     \u001b[38;5;28;01mreturn\u001b[39;00m \u001b[43mfn\u001b[49m\u001b[43m(\u001b[49m\u001b[38;5;241;43m*\u001b[39;49m\u001b[43margs\u001b[49m\u001b[43m,\u001b[49m\u001b[43m \u001b[49m\u001b[38;5;241;43m*\u001b[39;49m\u001b[38;5;241;43m*\u001b[39;49m\u001b[43mkwargs\u001b[49m\u001b[43m)\u001b[49m\n\u001b[1;32m    157\u001b[0m \u001b[38;5;28;01mexcept\u001b[39;00m grpc\u001b[38;5;241m.\u001b[39mRpcError \u001b[38;5;28;01mas\u001b[39;00m exc:\n",
      "File \u001b[0;32m/Library/Frameworks/Python.framework/Versions/3.9/lib/python3.9/site-packages/graphscope/client/rpc.py:185\u001b[0m, in \u001b[0;36mGRPCClient._run_step_impl\u001b[0;34m(self, dag_def)\u001b[0m\n\u001b[1;32m    182\u001b[0m runstep_requests \u001b[38;5;241m=\u001b[39m \u001b[38;5;28mself\u001b[39m\u001b[38;5;241m.\u001b[39m_grpc_utils\u001b[38;5;241m.\u001b[39mgenerate_runstep_requests(\n\u001b[1;32m    183\u001b[0m     \u001b[38;5;28mself\u001b[39m\u001b[38;5;241m.\u001b[39m_session_id, dag_def\n\u001b[1;32m    184\u001b[0m )\n\u001b[0;32m--> 185\u001b[0m response \u001b[38;5;241m=\u001b[39m \u001b[38;5;28;43mself\u001b[39;49m\u001b[38;5;241;43m.\u001b[39;49m\u001b[43m_grpc_utils\u001b[49m\u001b[38;5;241;43m.\u001b[39;49m\u001b[43mparse_runstep_responses\u001b[49m\u001b[43m(\u001b[49m\n\u001b[1;32m    186\u001b[0m \u001b[43m    \u001b[49m\u001b[38;5;28;43mself\u001b[39;49m\u001b[38;5;241;43m.\u001b[39;49m\u001b[43m_stub\u001b[49m\u001b[38;5;241;43m.\u001b[39;49m\u001b[43mRunStep\u001b[49m\u001b[43m(\u001b[49m\u001b[43mrunstep_requests\u001b[49m\u001b[43m)\u001b[49m\n\u001b[1;32m    187\u001b[0m \u001b[43m\u001b[49m\u001b[43m)\u001b[49m\n\u001b[1;32m    188\u001b[0m \u001b[38;5;28;01mif\u001b[39;00m response\u001b[38;5;241m.\u001b[39mcode \u001b[38;5;241m!=\u001b[39m error_codes_pb2\u001b[38;5;241m.\u001b[39mOK:\n",
      "File \u001b[0;32m/Library/Frameworks/Python.framework/Versions/3.9/lib/python3.9/site-packages/graphscope/client/utils.py:122\u001b[0m, in \u001b[0;36mGRPCUtils.parse_runstep_responses\u001b[0;34m(self, responses)\u001b[0m\n\u001b[1;32m    121\u001b[0m has_next \u001b[38;5;241m=\u001b[39m \u001b[38;5;28;01mTrue\u001b[39;00m\n\u001b[0;32m--> 122\u001b[0m \u001b[38;5;28;01mfor\u001b[39;00m response \u001b[38;5;129;01min\u001b[39;00m responses:\n\u001b[1;32m    123\u001b[0m     \u001b[38;5;28;01mif\u001b[39;00m response\u001b[38;5;241m.\u001b[39mHasField(\u001b[38;5;124m\"\u001b[39m\u001b[38;5;124mhead\u001b[39m\u001b[38;5;124m\"\u001b[39m):\n",
      "File \u001b[0;32m/Library/Frameworks/Python.framework/Versions/3.9/lib/python3.9/site-packages/grpc/_channel.py:426\u001b[0m, in \u001b[0;36m_Rendezvous.__next__\u001b[0;34m(self)\u001b[0m\n\u001b[1;32m    425\u001b[0m \u001b[38;5;28;01mdef\u001b[39;00m \u001b[38;5;21m__next__\u001b[39m(\u001b[38;5;28mself\u001b[39m):\n\u001b[0;32m--> 426\u001b[0m     \u001b[38;5;28;01mreturn\u001b[39;00m \u001b[38;5;28;43mself\u001b[39;49m\u001b[38;5;241;43m.\u001b[39;49m\u001b[43m_next\u001b[49m\u001b[43m(\u001b[49m\u001b[43m)\u001b[49m\n",
      "File \u001b[0;32m/Library/Frameworks/Python.framework/Versions/3.9/lib/python3.9/site-packages/grpc/_channel.py:826\u001b[0m, in \u001b[0;36m_MultiThreadedRendezvous._next\u001b[0;34m(self)\u001b[0m\n\u001b[1;32m    825\u001b[0m \u001b[38;5;28;01melif\u001b[39;00m \u001b[38;5;28mself\u001b[39m\u001b[38;5;241m.\u001b[39m_state\u001b[38;5;241m.\u001b[39mcode \u001b[38;5;129;01mis\u001b[39;00m \u001b[38;5;129;01mnot\u001b[39;00m \u001b[38;5;28;01mNone\u001b[39;00m:\n\u001b[0;32m--> 826\u001b[0m     \u001b[38;5;28;01mraise\u001b[39;00m \u001b[38;5;28mself\u001b[39m\n",
      "\u001b[0;31m_MultiThreadedRendezvous\u001b[0m: <_MultiThreadedRendezvous of RPC that terminated with:\n\tstatus = StatusCode.UNAVAILABLE\n\tdetails = \"Socket closed\"\n\tdebug_error_string = \"{\"created\":\"@1666778273.929470000\",\"description\":\"Error received from peer ipv6:[::1]:59793\",\"file\":\"src/core/lib/surface/call.cc\",\"file_line\":1075,\"grpc_message\":\"Socket closed\",\"grpc_status\":14}\"\n>",
      "\nDuring handling of the above exception, another exception occurred:\n",
      "\u001b[0;31mGRPCError\u001b[0m                                 Traceback (most recent call last)",
      "Cell \u001b[0;32mIn [2], line 4\u001b[0m\n\u001b[1;32m      1\u001b[0m \u001b[38;5;28;01mfrom\u001b[39;00m \u001b[38;5;21;01mgraphscope\u001b[39;00m\u001b[38;5;21;01m.\u001b[39;00m\u001b[38;5;21;01mframework\u001b[39;00m\u001b[38;5;21;01m.\u001b[39;00m\u001b[38;5;21;01mloader\u001b[39;00m \u001b[38;5;28;01mimport\u001b[39;00m Loader\n\u001b[1;32m      3\u001b[0m graph \u001b[38;5;241m=\u001b[39m session\u001b[38;5;241m.\u001b[39mg()\n\u001b[0;32m----> 4\u001b[0m graph \u001b[38;5;241m=\u001b[39m graph\u001b[38;5;241m.\u001b[39madd_vertices(Loader(\u001b[38;5;124m\"\u001b[39m\u001b[38;5;124mhdfs:///GraphScope/Data/ogbn_mag_small/field_of_study.csv\u001b[39m\u001b[38;5;124m\"\u001b[39m,\n\u001b[1;32m      5\u001b[0m                                   host\u001b[38;5;241m=\u001b[39m\u001b[38;5;124m\"\u001b[39m\u001b[38;5;124m192.168.2.152\u001b[39m\u001b[38;5;124m\"\u001b[39m, port\u001b[38;5;241m=\u001b[39m\u001b[38;5;241m9000\u001b[39m),\n\u001b[1;32m      6\u001b[0m                            label\u001b[38;5;241m=\u001b[39m\u001b[38;5;124m\"\u001b[39m\u001b[38;5;124mfield_of_study\u001b[39m\u001b[38;5;124m\"\u001b[39m,\n\u001b[1;32m      7\u001b[0m                            vid_field\u001b[38;5;241m=\u001b[39m\u001b[38;5;124m\"\u001b[39m\u001b[38;5;124mid\u001b[39m\u001b[38;5;124m\"\u001b[39m)\n\u001b[1;32m      9\u001b[0m labelCount \u001b[38;5;241m=\u001b[39m \u001b[38;5;28mlen\u001b[39m(graph\u001b[38;5;241m.\u001b[39mv_labels)\n\u001b[1;32m     10\u001b[0m \u001b[38;5;28mprint\u001b[39m(\u001b[38;5;124m'\u001b[39m\u001b[38;5;124mLabel count is \u001b[39m\u001b[38;5;124m'\u001b[39m, labelCount, \u001b[38;5;124m'\u001b[39m\u001b[38;5;124m.\u001b[39m\u001b[38;5;124m'\u001b[39m)\n",
      "File \u001b[0;32m/Library/Frameworks/Python.framework/Versions/3.9/lib/python3.9/site-packages/graphscope/framework/graph.py:1088\u001b[0m, in \u001b[0;36mGraph.add_vertices\u001b[0;34m(self, vertices, label, properties, vid_field)\u001b[0m\n\u001b[1;32m   1086\u001b[0m \u001b[38;5;28;01mif\u001b[39;00m \u001b[38;5;129;01mnot\u001b[39;00m \u001b[38;5;28mself\u001b[39m\u001b[38;5;241m.\u001b[39mloaded():\n\u001b[1;32m   1087\u001b[0m     \u001b[38;5;28;01mraise\u001b[39;00m \u001b[38;5;167;01mRuntimeError\u001b[39;00m(\u001b[38;5;124m\"\u001b[39m\u001b[38;5;124mThe graph is not loaded\u001b[39m\u001b[38;5;124m\"\u001b[39m)\n\u001b[0;32m-> 1088\u001b[0m \u001b[38;5;28;01mreturn\u001b[39;00m \u001b[38;5;28;43mself\u001b[39;49m\u001b[38;5;241;43m.\u001b[39;49m\u001b[43m_session\u001b[49m\u001b[38;5;241;43m.\u001b[39;49m\u001b[43m_wrapper\u001b[49m\u001b[43m(\u001b[49m\n\u001b[1;32m   1089\u001b[0m \u001b[43m    \u001b[49m\u001b[38;5;28;43mself\u001b[39;49m\u001b[38;5;241;43m.\u001b[39;49m\u001b[43m_graph_node\u001b[49m\u001b[38;5;241;43m.\u001b[39;49m\u001b[43madd_vertices\u001b[49m\u001b[43m(\u001b[49m\u001b[43mvertices\u001b[49m\u001b[43m,\u001b[49m\u001b[43m \u001b[49m\u001b[43mlabel\u001b[49m\u001b[43m,\u001b[49m\u001b[43m \u001b[49m\u001b[43mproperties\u001b[49m\u001b[43m,\u001b[49m\u001b[43m \u001b[49m\u001b[43mvid_field\u001b[49m\u001b[43m)\u001b[49m\n\u001b[1;32m   1090\u001b[0m \u001b[43m\u001b[49m\u001b[43m)\u001b[49m\n",
      "File \u001b[0;32m/Library/Frameworks/Python.framework/Versions/3.9/lib/python3.9/site-packages/graphscope/client/session.py:983\u001b[0m, in \u001b[0;36mSession._wrapper\u001b[0;34m(self, dag_node)\u001b[0m\n\u001b[1;32m    981\u001b[0m \u001b[38;5;28;01mdef\u001b[39;00m \u001b[38;5;21m_wrapper\u001b[39m(\u001b[38;5;28mself\u001b[39m, dag_node):\n\u001b[1;32m    982\u001b[0m     \u001b[38;5;28;01mif\u001b[39;00m \u001b[38;5;28mself\u001b[39m\u001b[38;5;241m.\u001b[39meager():\n\u001b[0;32m--> 983\u001b[0m         \u001b[38;5;28;01mreturn\u001b[39;00m \u001b[38;5;28;43mself\u001b[39;49m\u001b[38;5;241;43m.\u001b[39;49m\u001b[43mrun\u001b[49m\u001b[43m(\u001b[49m\u001b[43mdag_node\u001b[49m\u001b[43m)\u001b[49m\n\u001b[1;32m    984\u001b[0m     \u001b[38;5;28;01mreturn\u001b[39;00m dag_node\n",
      "File \u001b[0;32m/Library/Frameworks/Python.framework/Versions/3.9/lib/python3.9/site-packages/graphscope/client/session.py:1005\u001b[0m, in \u001b[0;36mSession.run\u001b[0;34m(self, fetches, debug)\u001b[0m\n\u001b[1;32m    986\u001b[0m \u001b[38;5;28;01mdef\u001b[39;00m \u001b[38;5;21mrun\u001b[39m(\u001b[38;5;28mself\u001b[39m, fetches, debug\u001b[38;5;241m=\u001b[39m\u001b[38;5;28;01mFalse\u001b[39;00m):\n\u001b[1;32m    987\u001b[0m     \u001b[38;5;124;03m\"\"\"Run operations of `fetches`.\u001b[39;00m\n\u001b[1;32m    988\u001b[0m \u001b[38;5;124;03m    Args:\u001b[39;00m\n\u001b[1;32m    989\u001b[0m \u001b[38;5;124;03m        fetch: :class:`Operation`\u001b[39;00m\n\u001b[0;32m   (...)\u001b[0m\n\u001b[1;32m   1003\u001b[0m \u001b[38;5;124;03m        Different values for different output types of :class:`Operation`\u001b[39;00m\n\u001b[1;32m   1004\u001b[0m \u001b[38;5;124;03m    \"\"\"\u001b[39;00m\n\u001b[0;32m-> 1005\u001b[0m     \u001b[38;5;28;01mreturn\u001b[39;00m \u001b[38;5;28;43mself\u001b[39;49m\u001b[38;5;241;43m.\u001b[39;49m\u001b[43mrun_fetches\u001b[49m\u001b[43m(\u001b[49m\u001b[43mfetches\u001b[49m\u001b[43m,\u001b[49m\u001b[43m \u001b[49m\u001b[43mdebug\u001b[49m\u001b[43m)\u001b[49m\n",
      "File \u001b[0;32m/Library/Frameworks/Python.framework/Versions/3.9/lib/python3.9/site-packages/graphscope/client/session.py:1015\u001b[0m, in \u001b[0;36mSession.run_fetches\u001b[0;34m(self, fetches, debug)\u001b[0m\n\u001b[1;32m   1013\u001b[0m fetch_handler \u001b[38;5;241m=\u001b[39m _FetchHandler(\u001b[38;5;28mself\u001b[39m\u001b[38;5;241m.\u001b[39mdag, fetches)\n\u001b[1;32m   1014\u001b[0m \u001b[38;5;28;01mtry\u001b[39;00m:\n\u001b[0;32m-> 1015\u001b[0m     response \u001b[38;5;241m=\u001b[39m \u001b[38;5;28;43mself\u001b[39;49m\u001b[38;5;241;43m.\u001b[39;49m\u001b[43m_grpc_client\u001b[49m\u001b[38;5;241;43m.\u001b[39;49m\u001b[43mrun\u001b[49m\u001b[43m(\u001b[49m\u001b[43mfetch_handler\u001b[49m\u001b[38;5;241;43m.\u001b[39;49m\u001b[43mtargets\u001b[49m\u001b[43m)\u001b[49m\n\u001b[1;32m   1016\u001b[0m \u001b[38;5;28;01mexcept\u001b[39;00m FatalError:\n\u001b[1;32m   1017\u001b[0m     \u001b[38;5;28mself\u001b[39m\u001b[38;5;241m.\u001b[39mclose()\n",
      "File \u001b[0;32m/Library/Frameworks/Python.framework/Versions/3.9/lib/python3.9/site-packages/graphscope/client/rpc.py:98\u001b[0m, in \u001b[0;36mGRPCClient.run\u001b[0;34m(self, dag_def)\u001b[0m\n\u001b[1;32m     97\u001b[0m \u001b[38;5;28;01mdef\u001b[39;00m \u001b[38;5;21mrun\u001b[39m(\u001b[38;5;28mself\u001b[39m, dag_def):\n\u001b[0;32m---> 98\u001b[0m     \u001b[38;5;28;01mreturn\u001b[39;00m \u001b[38;5;28;43mself\u001b[39;49m\u001b[38;5;241;43m.\u001b[39;49m\u001b[43m_run_step_impl\u001b[49m\u001b[43m(\u001b[49m\u001b[43mdag_def\u001b[49m\u001b[43m)\u001b[49m\n",
      "File \u001b[0;32m/Library/Frameworks/Python.framework/Versions/3.9/lib/python3.9/site-packages/graphscope/client/utils.py:161\u001b[0m, in \u001b[0;36mhandle_grpc_error_with_retry.<locals>.with_grpc_catch\u001b[0;34m(*args, **kwargs)\u001b[0m\n\u001b[1;32m    159\u001b[0m max_retries \u001b[38;5;241m=\u001b[39m GRPC_MAX_RETRIES_BY_CODE\u001b[38;5;241m.\u001b[39mget(code)\n\u001b[1;32m    160\u001b[0m \u001b[38;5;28;01mif\u001b[39;00m \u001b[38;5;129;01mnot\u001b[39;00m retry \u001b[38;5;129;01mor\u001b[39;00m max_retries \u001b[38;5;129;01mis\u001b[39;00m \u001b[38;5;28;01mNone\u001b[39;00m:\n\u001b[0;32m--> 161\u001b[0m     \u001b[38;5;28;01mraise\u001b[39;00m GRPCError(\n\u001b[1;32m    162\u001b[0m         \u001b[38;5;124m\"\u001b[39m\u001b[38;5;124mrpc \u001b[39m\u001b[38;5;132;01m%s\u001b[39;00m\u001b[38;5;124m failed: status \u001b[39m\u001b[38;5;132;01m%s\u001b[39;00m\u001b[38;5;124m\"\u001b[39m \u001b[38;5;241m%\u001b[39m (\u001b[38;5;28mstr\u001b[39m(fn\u001b[38;5;241m.\u001b[39m\u001b[38;5;18m__name__\u001b[39m), exc)\n\u001b[1;32m    163\u001b[0m     )\n\u001b[1;32m    165\u001b[0m \u001b[38;5;28;01mif\u001b[39;00m retries \u001b[38;5;241m>\u001b[39m max_retries:\n\u001b[1;32m    166\u001b[0m     \u001b[38;5;28;01mraise\u001b[39;00m RetriesExceededError(\n\u001b[1;32m    167\u001b[0m         \u001b[38;5;124m\"\u001b[39m\u001b[38;5;124mrpc \u001b[39m\u001b[38;5;132;01m%s\u001b[39;00m\u001b[38;5;124m failed: status \u001b[39m\u001b[38;5;132;01m%s\u001b[39;00m\u001b[38;5;124m\"\u001b[39m \u001b[38;5;241m%\u001b[39m (\u001b[38;5;28mstr\u001b[39m(fn\u001b[38;5;241m.\u001b[39m\u001b[38;5;18m__name__\u001b[39m), exc)\n\u001b[1;32m    168\u001b[0m     )\n",
      "\u001b[0;31mGRPCError\u001b[0m: RPC failed: rpc _run_step_impl failed: status <_MultiThreadedRendezvous of RPC that terminated with:\n\tstatus = StatusCode.UNAVAILABLE\n\tdetails = \"Socket closed\"\n\tdebug_error_string = \"{\"created\":\"@1666778273.929470000\",\"description\":\"Error received from peer ipv6:[::1]:59793\",\"file\":\"src/core/lib/surface/call.cc\",\"file_line\":1075,\"grpc_message\":\"Socket closed\",\"grpc_status\":14}\"\n>"
     ]
    },
    {
     "name": "stdout",
     "output_type": "stream",
     "text": [
      "2022-10-26 17:57:58,833 [WARNING][session:824]: RPC failed: rpc send_heartbeat failed: status <_InactiveRpcError of RPC that terminated with:\n",
      "\tstatus = StatusCode.UNKNOWN\n",
      "\tdetails = \"Error occurs in handler: \"<_InactiveRpcError of RPC that terminated with:\n",
      "\tstatus = StatusCode.UNAVAILABLE\n",
      "\tdetails = \"failed to connect to all addresses\"\n",
      "\tdebug_error_string = \"{\"created\":\"@1666778278.837735834\",\"description\":\"Failed to pick subchannel\",\"file\":\"src/core/ext/filters/client_channel/client_channel.cc\",\"file_line\":3134,\"referenced_errors\":[{\"created\":\"@1666778278.837735239\",\"description\":\"failed to connect to all addresses\",\"file\":\"src/core/lib/transport/error_utils.cc\",\"file_line\":163,\"grpc_status\":14}]}\"\n",
      ">\", with traceback: Traceback (most recent call last):\n",
      "  File \"/home/graphscope/.local/lib/python3.8/site-packages/gscoordinator/coordinator.py\", line 126, in handler_execution\n",
      "    yield handler(self, request, context)\n",
      "  File \"/home/graphscope/.local/lib/python3.8/site-packages/gscoordinator/coordinator.py\", line 363, in _HeartBeat\n",
      "    return self._analytical_engine_stub.HeartBeat(request)\n",
      "  File \"/home/graphscope/.local/lib/python3.8/site-packages/grpc/_channel.py\", line 946, in __call__\n",
      "    return _end_unary_response_blocking(state, call, False, None)\n",
      "  File \"/home/graphscope/.local/lib/python3.8/site-packages/grpc/_channel.py\", line 849, in _end_unary_response_blocking\n",
      "    raise _InactiveRpcError(state)\n",
      "grpc._channel._InactiveRpcError: <_InactiveRpcError of RPC that terminated with:\n",
      "\tstatus = StatusCode.UNAVAILABLE\n",
      "\tdetails = \"failed to connect to all addresses\"\n",
      "\tdebug_error_string = \"{\"created\":\"@1666778278.837735834\",\"description\":\"Failed to pick subchannel\",\"file\":\"src/core/ext/filters/client_channel/client_channel.cc\",\"file_line\":3134,\"referenced_errors\":[{\"created\":\"@1666778278.837735239\",\"description\":\"failed to connect to all addresses\",\"file\":\"src/core/lib/transport/error_utils.cc\",\"file_line\":163,\"grpc_status\":14}]}\"\n",
      ">\n",
      "\"\n",
      "\tdebug_error_string = \"{\"created\":\"@1666778278.832936000\",\"description\":\"Error received from peer ipv6:[::1]:59793\",\"file\":\"src/core/lib/surface/call.cc\",\"file_line\":1075,\"grpc_message\":\"Error occurs in handler: \"<_InactiveRpcError of RPC that terminated with:\\n\\tstatus = StatusCode.UNAVAILABLE\\n\\tdetails = \"failed to connect to all addresses\"\\n\\tdebug_error_string = \"{\"created\":\"@1666778278.837735834\",\"description\":\"Failed to pick subchannel\",\"file\":\"src/core/ext/filters/client_channel/client_channel.cc\",\"file_line\":3134,\"referenced_errors\":[{\"created\":\"@1666778278.837735239\",\"description\":\"failed to connect to all addresses\",\"file\":\"src/core/lib/transport/error_utils.cc\",\"file_line\":163,\"grpc_status\":14}]}\"\\n>\", with traceback: Traceback (most recent call last):\\n  File \"/home/graphscope/.local/lib/python3.8/site-packages/gscoordinator/coordinator.py\", line 126, in handler_execution\\n    yield handler(self, request, context)\\n  File \"/home/graphscope/.local/lib/python3.8/site-packages/gscoordinator/coordinator.py\", line 363, in _HeartBeat\\n    return self._analytical_engine_stub.HeartBeat(request)\\n  File \"/home/graphscope/.local/lib/python3.8/site-packages/grpc/_channel.py\", line 946, in __call__\\n    return _end_unary_response_blocking(state, call, False, None)\\n  File \"/home/graphscope/.local/lib/python3.8/site-packages/grpc/_channel.py\", line 849, in _end_unary_response_blocking\\n    raise _InactiveRpcError(state)\\ngrpc._channel._InactiveRpcError: <_InactiveRpcError of RPC that terminated with:\\n\\tstatus = StatusCode.UNAVAILABLE\\n\\tdetails = \"failed to connect to all addresses\"\\n\\tdebug_error_string = \"{\"created\":\"@1666778278.837735834\",\"description\":\"Failed to pick subchannel\",\"file\":\"src/core/ext/filters/client_channel/client_channel.cc\",\"file_line\":3134,\"referenced_errors\":[{\"created\":\"@1666778278.837735239\",\"description\":\"failed to connect to all addresses\",\"file\":\"src/core/lib/transport/error_utils.cc\",\"file_line\":163,\"grpc_status\":14}]}\"\\n>\\n\",\"grpc_status\":2}\"\n",
      ">\n",
      "2022-10-26 17:58:13,849 [ERROR][session:827]: The connection between coordinator has lost after 4 times of heartbeat failure, closing the session ...\n"
     ]
    }
   ],
   "source": [
    "from graphscope.framework.loader import Loader\n",
    "\n",
    "graph = session.g()\n",
    "graph = graph.add_vertices(Loader(\"hdfs:///GraphScope/Data/ogbn_mag_small/field_of_study.csv\",\n",
    "                                  host=\"192.168.2.152\", port=9000),\n",
    "                           label=\"field_of_study\",\n",
    "                           vid_field=\"id\")\n",
    "\n",
    "labelCount = len(graph.v_labels)\n",
    "print('Label count is ', labelCount, '.')"
   ]
  },
  {
   "cell_type": "code",
   "execution_count": null,
   "id": "61dbb6e9-1946-45dc-b1ab-0dc576daeb02",
   "metadata": {},
   "outputs": [],
   "source": [
    "session.close()\n",
    "print('============ Session closed. ==========')"
   ]
  }
 ],
 "metadata": {
  "kernelspec": {
   "display_name": "Python 3 (ipykernel)",
   "language": "python",
   "name": "python3"
  },
  "language_info": {
   "codemirror_mode": {
    "name": "ipython",
    "version": 3
   },
   "file_extension": ".py",
   "mimetype": "text/x-python",
   "name": "python",
   "nbconvert_exporter": "python",
   "pygments_lexer": "ipython3",
   "version": "3.9.13"
  }
 },
 "nbformat": 4,
 "nbformat_minor": 5
}
